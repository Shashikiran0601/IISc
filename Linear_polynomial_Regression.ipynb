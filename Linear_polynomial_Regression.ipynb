{
  "nbformat": 4,
  "nbformat_minor": 0,
  "metadata": {
    "colab": {
      "provenance": [],
      "collapsed_sections": [
        "MKCmF5jpinBi",
        "5hfUKQtPisIu"
      ]
    },
    "kernelspec": {
      "name": "python3",
      "display_name": "Python 3"
    },
    "language_info": {
      "name": "python"
    }
  },
  "cells": [
    {
      "cell_type": "code",
      "source": [
        "!gdown \"16KqIQQjEtsJicM0A7aU_ctuMBvksBQJz&confirm=true\""
      ],
      "metadata": {
        "id": "XwVmxbrGi__n"
      },
      "execution_count": null,
      "outputs": []
    },
    {
      "cell_type": "markdown",
      "source": [
        "#Linear Regression\n",
        "\n"
      ],
      "metadata": {
        "id": "MKCmF5jpinBi"
      }
    },
    {
      "cell_type": "code",
      "source": [
        "import numpy as np\n",
        "import pandas as pd\n",
        "from sklearn.linear_model import LinearRegression\n",
        "from sklearn.model_selection import train_test_split\n",
        "from sklearn.metrics import mean_squared_error\n",
        "\n",
        "# data = {\n",
        "#     'Latitude': [35.123, 35.567, 35.876, 36.234, 36.789],\n",
        "#     'Longitude': [139.567, 139.876, 140.345, 140.987, 141.234],\n",
        "#     'Signal_Strength': [-70, -75, -80, -85, -90],\n",
        "# }\n",
        "\n",
        "df = pd.read_csv(\"/content/test_data.csv\")\n",
        "\n",
        "# Prepare the data\n",
        "X = df[['Latitude', 'Longitude']]\n",
        "y = df['Signal_Strength']\n",
        "\n",
        "# Split the data into training and testing sets\n",
        "X_train, X_test, y_train, y_test = train_test_split(X, y, test_size=0.2, random_state=42)\n",
        "\n",
        "# Train the linear regression model\n",
        "regressor = LinearRegression()\n",
        "regressor.fit(X_train, y_train)\n",
        "\n",
        "# Make predictions on the testing set\n",
        "y_pred = regressor.predict(X_test)\n",
        "\n",
        "# Evaluate the model\n",
        "mse = mean_squared_error(y_test, y_pred)\n",
        "print(\"Mean Squared Error:\", mse)\n",
        "\n",
        "# Predict signal strength at a new location (unseen data)\n",
        "new_location = np.array([[35.432, 140.123]])\n",
        "predicted_signal_strength = regressor.predict(new_location)\n",
        "print(\"Predicted Signal Strength:\", predicted_signal_strength[0])\n"
      ],
      "metadata": {
        "colab": {
          "base_uri": "https://localhost:8080/"
        },
        "id": "uzenwzeE9Z6k",
        "outputId": "40cbfa38-b0bc-431b-f69c-61fc5f017c3f"
      },
      "execution_count": 9,
      "outputs": [
        {
          "output_type": "stream",
          "name": "stdout",
          "text": [
            "Mean Squared Error: 0.0007126239875164131\n",
            "Predicted Signal Strength: -75.16166483367647\n"
          ]
        },
        {
          "output_type": "stream",
          "name": "stderr",
          "text": [
            "/usr/local/lib/python3.10/dist-packages/sklearn/base.py:439: UserWarning: X does not have valid feature names, but LinearRegression was fitted with feature names\n",
            "  warnings.warn(\n"
          ]
        }
      ]
    },
    {
      "cell_type": "markdown",
      "source": [
        "#Polynomial Regression"
      ],
      "metadata": {
        "id": "5hfUKQtPisIu"
      }
    },
    {
      "cell_type": "code",
      "source": [
        "import numpy as np\n",
        "import pandas as pd\n",
        "from sklearn.linear_model import LinearRegression\n",
        "from sklearn.preprocessing import PolynomialFeatures\n",
        "from sklearn.model_selection import train_test_split\n",
        "from sklearn.metrics import mean_squared_error\n",
        "\n",
        "# data = {\n",
        "#     'Latitude': [35.123, 35.567, 35.876, 36.234, 36.789],\n",
        "#     'Longitude': [139.567, 139.876, 140.345, 140.987, 141.234],\n",
        "#     'Signal_Strength': [-70, -75, -80, -85, -90],\n",
        "# }\n",
        "\n",
        "df = pd.read_csv(\"/content/test_data.csv\")\n",
        "\n",
        "# Prepare the data\n",
        "X = df[['Latitude', 'Longitude']]\n",
        "y = df['Signal_Strength']\n",
        "\n",
        "# Split the data into training and testing sets\n",
        "X_train, X_test, y_train, y_test = train_test_split(X, y, test_size=0.2, random_state=42)\n",
        "\n",
        "# Apply Polynomial Regression\n",
        "degree = 2  # Set the degree of the polynomial\n",
        "poly = PolynomialFeatures(degree=degree)\n",
        "X_train_poly = poly.fit_transform(X_train)\n",
        "X_test_poly = poly.transform(X_test)\n",
        "\n",
        "# Train the linear regression model with polynomial features\n",
        "regressor = LinearRegression()\n",
        "regressor.fit(X_train_poly, y_train)\n",
        "\n",
        "# Make predictions on the testing set\n",
        "y_pred = regressor.predict(X_test_poly)\n",
        "\n",
        "# Evaluate the model\n",
        "mse = mean_squared_error(y_test, y_pred)\n",
        "print(\"Mean Squared Error:\", mse)\n",
        "\n",
        "# Predict signal strength at a new location (unseen data)\n",
        "new_location = np.array([[39.7821125865,-105.008826579]])\n",
        "new_location_poly = poly.transform(new_location)\n",
        "predicted_signal_strength = regressor.predict(new_location_poly)\n",
        "print(\"Predicted Signal Strength:\", predicted_signal_strength[0])\n"
      ],
      "metadata": {
        "colab": {
          "base_uri": "https://localhost:8080/"
        },
        "id": "zdP_84J55fZS",
        "outputId": "5677c536-1ac6-43e2-cacc-955624a56ad6"
      },
      "execution_count": 8,
      "outputs": [
        {
          "output_type": "stream",
          "name": "stdout",
          "text": [
            "Mean Squared Error: 75.87077859807033\n",
            "Predicted Signal Strength: -125.49496023124084\n"
          ]
        },
        {
          "output_type": "stream",
          "name": "stderr",
          "text": [
            "/usr/local/lib/python3.10/dist-packages/sklearn/base.py:439: UserWarning: X does not have valid feature names, but PolynomialFeatures was fitted with feature names\n",
            "  warnings.warn(\n"
          ]
        }
      ]
    }
  ]
}